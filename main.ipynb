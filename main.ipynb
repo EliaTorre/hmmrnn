{
 "cells": [
  {
   "cell_type": "markdown",
   "metadata": {},
   "source": [
    "# HMM-RNN Experiments\n",
    "\n",
    "This notebook demonstrates how to run experiments using the MANAGER class."
   ]
  },
  {
   "cell_type": "code",
   "execution_count": 1,
   "metadata": {},
   "outputs": [],
   "source": [
    "import os\n",
    "import sys\n",
    "import torch\n",
    "import numpy as np\n",
    "import matplotlib.pyplot as plt\n",
    "from pathlib import Path\n",
    "\n",
    "# Import our modules\n",
    "from scripts.manager import Manager"
   ]
  },
  {
   "cell_type": "markdown",
   "metadata": {},
   "source": [
    "## Run a Single Experiment\n",
    "\n",
    "Let's run a single experiment with verbose output to see the training progress."
   ]
  },
  {
   "cell_type": "code",
   "execution_count": 1,
   "metadata": {},
   "outputs": [
    {
     "ename": "NameError",
     "evalue": "name 'Manager' is not defined",
     "output_type": "error",
     "traceback": [
      "\u001b[0;31m---------------------------------------------------------------------------\u001b[0m",
      "\u001b[0;31mNameError\u001b[0m                                 Traceback (most recent call last)",
      "Cell \u001b[0;32mIn[1], line 2\u001b[0m\n\u001b[1;32m      1\u001b[0m \u001b[38;5;66;03m# Initialize the experiment manager with a small HMM configuration\u001b[39;00m\n\u001b[0;32m----> 2\u001b[0m manager \u001b[38;5;241m=\u001b[39m Manager(config_name\u001b[38;5;241m=\u001b[39m\u001b[38;5;124m\"\u001b[39m\u001b[38;5;124mHMMTwo_RG\u001b[39m\u001b[38;5;124m\"\u001b[39m)\n\u001b[1;32m      4\u001b[0m \u001b[38;5;66;03m# Print the configuration\u001b[39;00m\n\u001b[1;32m      5\u001b[0m \u001b[38;5;28mprint\u001b[39m(\u001b[38;5;124m\"\u001b[39m\u001b[38;5;124mConfiguration:\u001b[39m\u001b[38;5;124m\"\u001b[39m)\n",
      "\u001b[0;31mNameError\u001b[0m: name 'Manager' is not defined"
     ]
    }
   ],
   "source": [
    "# Initialize the experiment manager with a small HMM configuration\n",
    "manager = Manager(config_name=\"HMMTwo_RG\")\n",
    "\n",
    "# Print the configuration\n",
    "print(\"Configuration:\")\n",
    "for key, value in manager.config.items():\n",
    "    print(f\"  {key}: {value}\")"
   ]
  },
  {
   "cell_type": "code",
   "execution_count": null,
   "metadata": {},
   "outputs": [
    {
     "name": "stdout",
     "output_type": "stream",
     "text": [
      "Starting experiment at 2025-03-04 14:41:38.394265\n",
      "Configuration saved to Experiments/20250304_144132/HMMTwo_RG/config.pkl and Experiments/20250304_144132/HMMTwo_RG/config.json\n",
      "Starting RNN training...\n",
      "Transition Matrix:\n",
      "[[0.95 0.05]\n",
      " [0.05 0.95]]\n",
      "Using custom emission matrix\n",
      "Generating HMM data...\n",
      "Splitting data...\n",
      "HMM data saved to Experiments/20250304_144132/HMMTwo_RG/data/hmm_sequences.pkl\n",
      "Training with learning rate: 0.005\n",
      "Training on device: cuda\n",
      "Epoch [1/1000], Train Loss: 43.8871, Val Loss: 45.9264\n",
      "Epoch [10/1000], Train Loss: 35.8426, Val Loss: 35.6926\n",
      "Epoch [20/1000], Train Loss: 35.5357, Val Loss: 35.5208\n"
     ]
    },
    {
     "ename": "KeyboardInterrupt",
     "evalue": "",
     "output_type": "error",
     "traceback": [
      "\u001b[0;31m---------------------------------------------------------------------------\u001b[0m",
      "\u001b[0;31mKeyboardInterrupt\u001b[0m                         Traceback (most recent call last)",
      "Cell \u001b[0;32mIn[3], line 2\u001b[0m\n\u001b[1;32m      1\u001b[0m \u001b[38;5;66;03m# Run the experiment with verbose output\u001b[39;00m\n\u001b[0;32m----> 2\u001b[0m results \u001b[38;5;241m=\u001b[39m manager\u001b[38;5;241m.\u001b[39mrun_experiment(verbose\u001b[38;5;241m=\u001b[39m\u001b[38;5;28;01mTrue\u001b[39;00m)\n",
      "File \u001b[0;32m~/Documents/rnnrep/scripts/manager.py:369\u001b[0m, in \u001b[0;36mManager.run_experiment\u001b[0;34m(self, verbose)\u001b[0m\n\u001b[1;32m    366\u001b[0m \u001b[38;5;28mself\u001b[39m\u001b[38;5;241m.\u001b[39msave_config()\n\u001b[1;32m    368\u001b[0m \u001b[38;5;66;03m# 1. Train RNN model\u001b[39;00m\n\u001b[0;32m--> 369\u001b[0m hmm, rnn, data_splits \u001b[38;5;241m=\u001b[39m \u001b[38;5;28mself\u001b[39m\u001b[38;5;241m.\u001b[39mrun_training(verbose\u001b[38;5;241m=\u001b[39mverbose)\n\u001b[1;32m    371\u001b[0m \u001b[38;5;66;03m# 2. Run tests\u001b[39;00m\n\u001b[1;32m    372\u001b[0m test_results \u001b[38;5;241m=\u001b[39m \u001b[38;5;28mself\u001b[39m\u001b[38;5;241m.\u001b[39mrun_tests(hmm, rnn)\n",
      "File \u001b[0;32m~/Documents/rnnrep/scripts/manager.py:184\u001b[0m, in \u001b[0;36mManager.run_training\u001b[0;34m(self, verbose)\u001b[0m\n\u001b[1;32m    182\u001b[0m \u001b[38;5;28;01mfor\u001b[39;00m lr \u001b[38;5;129;01min\u001b[39;00m \u001b[38;5;28mself\u001b[39m\u001b[38;5;241m.\u001b[39mconfig\u001b[38;5;241m.\u001b[39mget(\u001b[38;5;124m\"\u001b[39m\u001b[38;5;124mlearning_rates\u001b[39m\u001b[38;5;124m\"\u001b[39m, [\u001b[38;5;241m0.001\u001b[39m]):\n\u001b[1;32m    183\u001b[0m     \u001b[38;5;28mprint\u001b[39m(\u001b[38;5;124mf\u001b[39m\u001b[38;5;124m\"\u001b[39m\u001b[38;5;124mTraining with learning rate: \u001b[39m\u001b[38;5;132;01m{\u001b[39;00mlr\u001b[38;5;132;01m}\u001b[39;00m\u001b[38;5;124m\"\u001b[39m)\n\u001b[0;32m--> 184\u001b[0m     rnn\u001b[38;5;241m.\u001b[39mtrain_model(\n\u001b[1;32m    185\u001b[0m         train_seq\u001b[38;5;241m=\u001b[39mdata_splits[\u001b[38;5;124m\"\u001b[39m\u001b[38;5;124mtrain_seq\u001b[39m\u001b[38;5;124m\"\u001b[39m],\n\u001b[1;32m    186\u001b[0m         val_seq\u001b[38;5;241m=\u001b[39mdata_splits[\u001b[38;5;124m\"\u001b[39m\u001b[38;5;124mval_seq\u001b[39m\u001b[38;5;124m\"\u001b[39m],\n\u001b[1;32m    187\u001b[0m         batch_size\u001b[38;5;241m=\u001b[39m\u001b[38;5;28mself\u001b[39m\u001b[38;5;241m.\u001b[39mconfig\u001b[38;5;241m.\u001b[39mget(\u001b[38;5;124m\"\u001b[39m\u001b[38;5;124mbatch_size\u001b[39m\u001b[38;5;124m\"\u001b[39m, \u001b[38;5;241m4096\u001b[39m),\n\u001b[1;32m    188\u001b[0m         lr\u001b[38;5;241m=\u001b[39mlr,\n\u001b[1;32m    189\u001b[0m         tau\u001b[38;5;241m=\u001b[39m\u001b[38;5;28mself\u001b[39m\u001b[38;5;241m.\u001b[39mconfig\u001b[38;5;241m.\u001b[39mget(\u001b[38;5;124m\"\u001b[39m\u001b[38;5;124mtau\u001b[39m\u001b[38;5;124m\"\u001b[39m, \u001b[38;5;241m1.0\u001b[39m),\n\u001b[1;32m    190\u001b[0m         epochs\u001b[38;5;241m=\u001b[39m\u001b[38;5;28mself\u001b[39m\u001b[38;5;241m.\u001b[39mconfig\u001b[38;5;241m.\u001b[39mget(\u001b[38;5;124m\"\u001b[39m\u001b[38;5;124mepochs\u001b[39m\u001b[38;5;124m\"\u001b[39m, \u001b[38;5;241m1000\u001b[39m),\n\u001b[1;32m    191\u001b[0m         grad_clip\u001b[38;5;241m=\u001b[39m\u001b[38;5;28mself\u001b[39m\u001b[38;5;241m.\u001b[39mconfig\u001b[38;5;241m.\u001b[39mget(\u001b[38;5;124m\"\u001b[39m\u001b[38;5;124mgrad_clip\u001b[39m\u001b[38;5;124m\"\u001b[39m, \u001b[38;5;241m0.9\u001b[39m),\n\u001b[1;32m    192\u001b[0m         init\u001b[38;5;241m=\u001b[39m\u001b[38;5;28mself\u001b[39m\u001b[38;5;241m.\u001b[39mconfig\u001b[38;5;241m.\u001b[39mget(\u001b[38;5;124m\"\u001b[39m\u001b[38;5;124minit\u001b[39m\u001b[38;5;124m\"\u001b[39m, \u001b[38;5;28;01mTrue\u001b[39;00m),\n\u001b[1;32m    193\u001b[0m         criterion\u001b[38;5;241m=\u001b[39mcriterion,\n\u001b[1;32m    194\u001b[0m         verbose\u001b[38;5;241m=\u001b[39mverbose\n\u001b[1;32m    195\u001b[0m     )\n\u001b[1;32m    197\u001b[0m     \u001b[38;5;66;03m# Check if this is the best model\u001b[39;00m\n\u001b[1;32m    198\u001b[0m     \u001b[38;5;28;01mif\u001b[39;00m rnn\u001b[38;5;241m.\u001b[39mbest_loss \u001b[38;5;241m<\u001b[39m best_loss:\n",
      "File \u001b[0;32m~/Documents/rnnrep/scripts/rnn.py:119\u001b[0m, in \u001b[0;36mRNN.train_model\u001b[0;34m(self, train_seq, val_seq, batch_size, lr, tau, epochs, grad_clip, init, criterion, verbose)\u001b[0m\n\u001b[1;32m    117\u001b[0m val_shape \u001b[38;5;241m=\u001b[39m (val_seq\u001b[38;5;241m.\u001b[39mshape[\u001b[38;5;241m0\u001b[39m], val_seq\u001b[38;5;241m.\u001b[39mshape[\u001b[38;5;241m1\u001b[39m], \u001b[38;5;28mself\u001b[39m\u001b[38;5;241m.\u001b[39minput_size)\n\u001b[1;32m    118\u001b[0m train_noise \u001b[38;5;241m=\u001b[39m torch\u001b[38;5;241m.\u001b[39mnormal(mean\u001b[38;5;241m=\u001b[39m\u001b[38;5;241m0\u001b[39m, std\u001b[38;5;241m=\u001b[39m\u001b[38;5;241m1\u001b[39m, size\u001b[38;5;241m=\u001b[39mtrain_shape)\u001b[38;5;241m.\u001b[39mto(\u001b[38;5;28mself\u001b[39m\u001b[38;5;241m.\u001b[39mdevice)\n\u001b[0;32m--> 119\u001b[0m val_noise \u001b[38;5;241m=\u001b[39m torch\u001b[38;5;241m.\u001b[39mnormal(mean\u001b[38;5;241m=\u001b[39m\u001b[38;5;241m0\u001b[39m, std\u001b[38;5;241m=\u001b[39m\u001b[38;5;241m1\u001b[39m, size\u001b[38;5;241m=\u001b[39mval_shape)\u001b[38;5;241m.\u001b[39mto(\u001b[38;5;28mself\u001b[39m\u001b[38;5;241m.\u001b[39mdevice)\n\u001b[1;32m    121\u001b[0m \u001b[38;5;66;03m# Training phase\u001b[39;00m\n\u001b[1;32m    122\u001b[0m \u001b[38;5;28mself\u001b[39m\u001b[38;5;241m.\u001b[39mtrain()\n",
      "\u001b[0;31mKeyboardInterrupt\u001b[0m: "
     ]
    }
   ],
   "source": [
    "# Run the experiment with verbose output\n",
    "results = manager.run_experiment(verbose=True)"
   ]
  },
  {
   "cell_type": "code",
   "execution_count": null,
   "metadata": {},
   "outputs": [
    {
     "name": "stdout",
     "output_type": "stream",
     "text": [
      "Created directory structure in Experiments/20250304_165943/HMMThree_RGB\n",
      "Running reverse-engineering analysis...\n",
      "Model loaded from Experiments/20250304_162931/HMMThree_RGB/models/3HMM_3Outputs_custom_30kData_0.001lr_30.4Loss.pth\n",
      "Generating RNN sequences for PCA...\n"
     ]
    },
    {
     "name": "stderr",
     "output_type": "stream",
     "text": [
      "/home/elia/Documents/rnnrep/scripts/rnn.py:248: FutureWarning: You are using `torch.load` with `weights_only=False` (the current default value), which uses the default pickle module implicitly. It is possible to construct malicious pickle data which will execute arbitrary code during unpickling (See https://github.com/pytorch/pytorch/blob/main/SECURITY.md#untrusted-models for more details). In a future release, the default value for `weights_only` will be flipped to `True`. This limits the functions that could be executed during unpickling. Arbitrary objects will no longer be allowed to be loaded via this mode unless they are explicitly allowlisted by the user via `torch.serialization.add_safe_globals`. We recommend you start setting `weights_only=True` for any use case where you don't have full control of the loaded file. Please open an issue on GitHub for any issues related to this experimental feature.\n",
      "  self.load_state_dict(torch.load(path, map_location=self.device))\n"
     ]
    },
    {
     "name": "stdout",
     "output_type": "stream",
     "text": [
      "Running PCA...\n",
      "Explained variance ratio: [0.9215994  0.04847329 0.01797062 0.00408706 0.0024104 ]\n",
      "Generating 2D PCA trajectory plot...\n",
      "2D trajectory plot saved to Experiments/20250304_162931/HMMThree_RGB/figs/latent_trajectory_2d.pdf\n",
      "Generating 3D PCA trajectory plot...\n",
      "3D trajectory plot saved to Experiments/20250304_162931/HMMThree_RGB/figs/latent_trajectory_3d.html\n",
      "GPU memory cleared\n"
     ]
    },
    {
     "data": {
      "image/png": "[encoded data removed]",
      "text/plain": [
       "<Figure size 800x600 with 1 Axes>"
      ]
     },
     "metadata": {},
     "output_type": "display_data"
    }
   ],
   "source": [
    "manager = Manager(config_name=\"HMMThree_RGB\")\n",
    "\n",
    "# Point to the experiment directory where your model is saved\n",
    "manager.config_dir = Path(\"Experiments/20250304_162931/HMMThree_RGB\")\n",
    "manager.models_path = manager.config_dir / \"models\"\n",
    "manager.figs_path = manager.config_dir / \"figs\"\n",
    "manager.data_path = manager.config_dir / \"data\"\n",
    "\n",
    "pca_results = manager.run_reverse()"
   ]
  },
  {
   "cell_type": "markdown",
   "metadata": {},
   "source": [
    "## Explore the Results\n",
    "\n",
    "After the experiment completes, we can explore the results directory."
   ]
  },
  {
   "cell_type": "code",
   "execution_count": null,
   "metadata": {},
   "outputs": [],
   "source": [
    "# Show the experiment directory structure\n",
    "import os\n",
    "\n",
    "def print_directory_tree(startpath):\n",
    "    for root, dirs, files in os.walk(startpath):\n",
    "        level = root.replace(startpath, '').count(os.sep)\n",
    "        indent = ' ' * 4 * level\n",
    "        print(f\"{indent}{os.path.basename(root)}/\")\n",
    "        sub_indent = ' ' * 4 * (level + 1)\n",
    "        for f in files:\n",
    "            print(f\"{sub_indent}{f}\")\n",
    "\n",
    "print_directory_tree(\"Experiments\")"
   ]
  },
  {
   "cell_type": "markdown",
   "metadata": {},
   "source": [
    "## Running Multiple Experiments\n",
    "\n",
    "You can also run multiple experiments in sequence."
   ]
  },
  {
   "cell_type": "code",
   "execution_count": null,
   "metadata": {},
   "outputs": [],
   "source": [
    "# Create a new manager\n",
    "multi_manager = Manager()\n",
    "\n",
    "# Run multiple experiments\n",
    "# Only uncommment this if you want to run more lengthy experiments\n",
    "config_names = [\"HMMThree_RGB\"]\n",
    "all_results = multi_manager.run_multiple_experiments(config_names, verbose=True)"
   ]
  },
  {
   "cell_type": "markdown",
   "metadata": {},
   "source": [
    "## Fixed Point Finder"
   ]
  },
  {
   "cell_type": "markdown",
   "metadata": {},
   "source": [
    "### From Directory"
   ]
  },
  {
   "cell_type": "code",
   "execution_count": 2,
   "metadata": {},
   "outputs": [
    {
     "name": "stdout",
     "output_type": "stream",
     "text": [
      "Created directory structure in Experiments/20250305_113329/HMMThree_RGB\n"
     ]
    }
   ],
   "source": [
    "manager = Manager(config_name=\"HMMThree_RGB\")\n",
    "\n",
    "# Point to the experiment directory where your model is saved\n",
    "manager.config_dir = Path(\"Experiments/20250304_162931/HMMThree_RGB\")\n",
    "manager.models_path = manager.config_dir / \"models\"\n",
    "manager.figs_path = manager.config_dir / \"figs\"\n",
    "manager.data_path = manager.config_dir / \"data\""
   ]
  },
  {
   "cell_type": "code",
   "execution_count": null,
   "metadata": {},
   "outputs": [],
   "source": [
    "all_fps, unique_fps = manager.find_fixed_points(num_initial_states=100)\n",
    "print(f\"Found {len(all_fps)} total fixed points, {len(unique_fps)} unique fixed points\")"
   ]
  },
  {
   "cell_type": "markdown",
   "metadata": {},
   "source": [
    "### From .pth Model"
   ]
  },
  {
   "cell_type": "code",
   "execution_count": null,
   "metadata": {},
   "outputs": [],
   "source": [
    "all_fps, unique_fps = manager.find_fixed_points(num_initial_states=100, num_traj=5, plot_unique=True, model_path=\"path/to/model.pth\")\n",
    "print(f\"Found {len(all_fps)} total fixed points, {len(unique_fps)} unique fixed points\")"
   ]
  }
 ],
 "metadata": {
  "kernelspec": {
   "display_name": "deep",
   "language": "python",
   "name": "python3"
  },
  "language_info": {
   "codemirror_mode": {
    "name": "ipython",
    "version": 3
   },
   "file_extension": ".py",
   "mimetype": "text/x-python",
   "name": "python",
   "nbconvert_exporter": "python",
   "pygments_lexer": "ipython3",
   "version": "3.12.7"
  }
 },
 "nbformat": 4,
 "nbformat_minor": 4
}
