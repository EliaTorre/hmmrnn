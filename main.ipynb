{
 "cells": [
  {
   "cell_type": "markdown",
   "metadata": {},
   "source": [
    "# Mechanistic Interpretability of RNNs emulating Hidden Markov Models"
   ]
  },
  {
   "cell_type": "code",
   "execution_count": 2,
   "metadata": {},
   "outputs": [],
   "source": [
    "from scripts.manager import Manager\n",
    "from scripts.metrics import compare_hmm_rnn_transition_matrices, compare_hmm_rnn_euclidean_distances\n",
    "from scripts.statespace import run_pipeline\n",
    "from scripts.mechint import load_weights, locate_areas, noise_sensitivity, residency_plot, neuron_activities, weight_matrices, mean_activities, pca_evolution, ablation"
   ]
  },
  {
   "cell_type": "markdown",
   "metadata": {},
   "source": [
    "## Training\n",
    "Functions to train a single or multiple models with or without saving intermediate epochs"
   ]
  },
  {
   "cell_type": "markdown",
   "metadata": {},
   "source": [
    "### Train a Single Model\n",
    "\n",
    "Let's run a single model training with verbose output to see the training progress."
   ]
  },
  {
   "cell_type": "code",
   "execution_count": null,
   "metadata": {},
   "outputs": [],
   "source": [
    "manager = Manager(config_name=\"HMMTwo\")\n",
    "results = manager.run_experiment(verbose=True)"
   ]
  },
  {
   "cell_type": "markdown",
   "metadata": {},
   "source": [
    "### Train Multiple Models\n",
    "\n",
    "You can also run multiple experiments in sequence."
   ]
  },
  {
   "cell_type": "code",
   "execution_count": null,
   "metadata": {},
   "outputs": [],
   "source": [
    "multi_manager = Manager()\n",
    "config_names = [\"HMMTwo\", \"HMMThree\", \"HMMFour\", \"HMMFive\"]\n",
    "all_results = multi_manager.run_multiple_experiments(config_names, verbose=False)"
   ]
  },
  {
   "cell_type": "markdown",
   "metadata": {},
   "source": [
    "### Train & Save Model per Epoch\n",
    "\n",
    "Training the model with the option to save the model at every epoch"
   ]
  },
  {
   "cell_type": "code",
   "execution_count": null,
   "metadata": {},
   "outputs": [],
   "source": [
    "manager = Manager(config_name=\"HMMTwo\")\n",
    "results = manager.run_training_evo(verbose=True)\n",
    "print(f\"Best Loss: {results['best_loss']}\")\n",
    "print(f\"Experiment Duration: {results['experiment_duration_minutes']} minutes\")"
   ]
  },
  {
   "cell_type": "markdown",
   "metadata": {},
   "source": [
    "## Performance Metrics\n",
    "Functions to calculate and plot Euclidean distances and transition matrices across 144 models: M = {2,3,4,5} latent states, |h| = {50, 150, 200} hidden sizes, d = {1, 10, 100, 200} input dimensions and 3 random seeds."
   ]
  },
  {
   "cell_type": "code",
   "execution_count": null,
   "metadata": {},
   "outputs": [],
   "source": [
    "compare_hmm_rnn_euclidean_distances()"
   ]
  },
  {
   "cell_type": "code",
   "execution_count": null,
   "metadata": {},
   "outputs": [],
   "source": [
    "compare_hmm_rnn_transition_matrices()"
   ]
  },
  {
   "cell_type": "markdown",
   "metadata": {},
   "source": [
    "## Latent Space Projections in PCA and Variance Contour Plots\n",
    "Function to calculate and plot trajectories with/without gaussian inputs in PCA space and contour plots with varying input noise standard deviation across 48 models: M = {2,3,4,5} latent states, |h| = {50, 150, 200} hidden sizes, d = {1, 10, 100, 200} input dimensions."
   ]
  },
  {
   "cell_type": "code",
   "execution_count": null,
   "metadata": {},
   "outputs": [],
   "source": [
    "run_pipeline()"
   ]
  },
  {
   "cell_type": "markdown",
   "metadata": {},
   "source": [
    "## Exploration of Latent Dynamics\n",
    "\n",
    "Latent dynamical properties for four RNNs trained on HMMs with: 2,3,4 and 5 latent states. The RNNs analyzed share hidden size |h| = 150 and input size d = 100. The models are contained in TrainedModels/{Two, Three, Four, Five}/{hidden_150}/{input_100}/{seed_0}"
   ]
  },
  {
   "cell_type": "markdown",
   "metadata": {},
   "source": [
    "### State Space Across Epochs"
   ]
  },
  {
   "cell_type": "code",
   "execution_count": null,
   "metadata": {},
   "outputs": [],
   "source": [
    "# 2 States\n",
    "pca_evolution(\"TrainedModels/Two/hidden_150/input_100/seed_0/models/evolution\", selected_epochs_list=[1, 10, 25, 100, 200], purple_epoch=50)"
   ]
  },
  {
   "cell_type": "code",
   "execution_count": null,
   "metadata": {},
   "outputs": [],
   "source": [
    "# 3 States\n",
    "pca_evolution(\"TrainedModels/Three/hidden_150/input_100/seed_0/models/evolution\", selected_epochs_list=[1, 10, 25, 150, 300], purple_epoch=55)"
   ]
  },
  {
   "cell_type": "code",
   "execution_count": null,
   "metadata": {},
   "outputs": [],
   "source": [
    "# 4 States\n",
    "pca_evolution(\"TrainedModels/Four/hidden_150/input_100/seed_0/models/evolution\", selected_epochs_list=[1, 10, 25, 150, 300], purple_epoch=100)"
   ]
  },
  {
   "cell_type": "code",
   "execution_count": null,
   "metadata": {},
   "outputs": [],
   "source": [
    "# 5 States\n",
    "pca_evolution(\"TrainedModels/Five/hidden_150/input_100/seed_0/models/evolution\", selected_epochs_list=[1, 50, 150, 400, 500], purple_epoch=380)"
   ]
  },
  {
   "cell_type": "markdown",
   "metadata": {},
   "source": [
    "### Residency Times and Average Logit Gradient Sign Changes"
   ]
  },
  {
   "cell_type": "code",
   "execution_count": null,
   "metadata": {},
   "outputs": [],
   "source": [
    "# 2 States\n",
    "residency_plot(\"Two States\", \"TrainedModels/Two/hidden_150/input_100/seed_0/models/2HMM_3Outputs_linear_30kData_0.001lr_10.0Loss.pth\", sigma=1, max_steps=60, t0=20, T=10000, n_samples=20)"
   ]
  },
  {
   "cell_type": "code",
   "execution_count": null,
   "metadata": {},
   "outputs": [],
   "source": [
    "# 3 States\n",
    "residency_plot(\"Three States\", \"TrainedModels/Three/hidden_150/input_100/seed_0/models/3HMM_3Outputs_linear_30kData_0.001lr_4.1Loss.pth\", sigma=1, max_steps=60, t0=20, T=10000, n_samples=20)"
   ]
  },
  {
   "cell_type": "code",
   "execution_count": null,
   "metadata": {},
   "outputs": [],
   "source": [
    "# 4 States\n",
    "residency_plot(\"Four States\", \"TrainedModels/Four/hidden_150/input_100/seed_0/models/4HMM_3Outputs_linear_30kData_0.001lr_4.6Loss.pth\", sigma=1, max_steps=60, t0=20, T=10000, n_samples=20)"
   ]
  },
  {
   "cell_type": "code",
   "execution_count": null,
   "metadata": {},
   "outputs": [],
   "source": [
    "# 5 States\n",
    "residency_plot(\"Five States\", \"TrainedModels/Five/hidden_150/input_100/seed_0/models/5HMM_3Outputs_linear_30kData_0.001lr_7.8Loss.pth\", sigma=1, max_steps=60, t0=20, T=10000, n_samples=20)"
   ]
  },
  {
   "cell_type": "markdown",
   "metadata": {},
   "source": [
    "### Noise Sensitivity\n",
    "\n",
    "To obtain clear results, you might need to run a couple of attempts until the initial condition is part of a cluster (not a kick-zone or transition)."
   ]
  },
  {
   "cell_type": "code",
   "execution_count": null,
   "metadata": {},
   "outputs": [],
   "source": [
    "# 2 States\n",
    "W_r, W_n, W_o = load_weights(\"TrainedModels/Two/hidden_150/input_100/seed_0/models/2HMM_3Outputs_linear_30kData_0.001lr_10.0Loss.pth\")\n",
    "h_track, o_track, noise_vec, tt, tk, tc = locate_areas(W_r, W_n, W_o, thr_fr=9, visual_check=False)\n",
    "noise_sensitivity(\"Two States\", W_r, W_n, o_track, h_track, noise_vec, tc, tk, gamm_noise_vals=[0,0.5,1], T=5, trajs=100)"
   ]
  },
  {
   "cell_type": "code",
   "execution_count": null,
   "metadata": {},
   "outputs": [],
   "source": [
    "# 3 States\n",
    "W_r, W_n, W_o = load_weights(\"TrainedModels/Three/hidden_150/input_100/seed_0/models/3HMM_3Outputs_linear_30kData_0.001lr_4.1Loss.pth\")\n",
    "h_track, o_track, noise_vec, tt, tk, tc = locate_areas(W_r, W_n, W_o, thr_fr=9, visual_check=False)\n",
    "noise_sensitivity(\"Three States\", W_r, W_n, o_track, h_track, noise_vec, tc, tk, gamm_noise_vals=[0,0.5,1], T=5, trajs=100)"
   ]
  },
  {
   "cell_type": "code",
   "execution_count": null,
   "metadata": {},
   "outputs": [],
   "source": [
    "# 4 States\n",
    "W_r, W_n, W_o = load_weights(\"TrainedModels/Four/hidden_150/input_100/seed_0/models/4HMM_3Outputs_linear_30kData_0.001lr_4.6Loss.pth\")\n",
    "h_track, o_track, noise_vec, tt, tk, tc = locate_areas(W_r, W_n, W_o, thr_fr=9, visual_check=False)\n",
    "noise_sensitivity(\"Four States\", W_r, W_n, o_track, h_track, noise_vec, tc, tk, gamm_noise_vals=[0,0.5,1], T=5, trajs=100)"
   ]
  },
  {
   "cell_type": "code",
   "execution_count": null,
   "metadata": {},
   "outputs": [],
   "source": [
    "# 5 States\n",
    "W_r, W_n, W_o = load_weights(\"TrainedModels/Five/hidden_150/input_100/seed_0/models/5HMM_3Outputs_linear_30kData_0.001lr_7.8Loss.pth\")\n",
    "h_track, o_track, noise_vec, tt, tk, tc = locate_areas(W_r, W_n, W_o, thr_fr=9, visual_check=False)\n",
    "noise_sensitivity(\"Five States\", W_r, W_n, o_track, h_track, noise_vec, tc, tk, gamm_noise_vals=[0,0.5,1], T=5, trajs=100)"
   ]
  },
  {
   "cell_type": "markdown",
   "metadata": {},
   "source": [
    "## Mechanistic Interpretability\n",
    "\n",
    "Here we uncover the neuronal circuit on a single RNN model trained on a HMM with 2 latent states contained in TrainedModel/ReverseEngineeredModel "
   ]
  },
  {
   "cell_type": "markdown",
   "metadata": {},
   "source": [
    "### Kick Neurons"
   ]
  },
  {
   "cell_type": "code",
   "execution_count": null,
   "metadata": {},
   "outputs": [],
   "source": [
    "neuron_activities(\"TrainedModels/ReverseEngineeredModel/2HMM_3Outputs_linear_30kData_0.001lr_10.0Loss.pth\")"
   ]
  },
  {
   "cell_type": "markdown",
   "metadata": {},
   "source": [
    "### Noise Integrating Populations"
   ]
  },
  {
   "cell_type": "code",
   "execution_count": null,
   "metadata": {},
   "outputs": [],
   "source": [
    "W_r, _, _ = load_weights(\"TrainedModels/ReverseEngineeredModel/2HMM_3Outputs_linear_30kData_0.001lr_10.0Loss.pth\")\n",
    "weight_matrices(W_r)"
   ]
  },
  {
   "cell_type": "markdown",
   "metadata": {},
   "source": [
    "### Oscillations in Mean Activity of Kick Neurons and Noise Integrating Populations"
   ]
  },
  {
   "cell_type": "code",
   "execution_count": null,
   "metadata": {},
   "outputs": [],
   "source": [
    "mean_activities(\"TrainedModels/ReverseEngineeredModel/2HMM_3Outputs_linear_30kData_0.001lr_10.0Loss.pth\")"
   ]
  },
  {
   "cell_type": "markdown",
   "metadata": {},
   "source": [
    "### Ablation Studies"
   ]
  },
  {
   "cell_type": "code",
   "execution_count": null,
   "metadata": {},
   "outputs": [],
   "source": [
    "ablation(\"/home/elia/Documents/rnnrep/TrainedModels/ReverseEngineeredModel/2HMM_3Outputs_linear_30kData_0.001lr_10.0Loss.pth\")"
   ]
  }
 ],
 "metadata": {
  "kernelspec": {
   "display_name": "hmmrnn",
   "language": "python",
   "name": "python3"
  },
  "language_info": {
   "codemirror_mode": {
    "name": "ipython",
    "version": 3
   },
   "file_extension": ".py",
   "mimetype": "text/x-python",
   "name": "python",
   "nbconvert_exporter": "python",
   "pygments_lexer": "ipython3",
   "version": "3.8.20"
  }
 },
 "nbformat": 4,
 "nbformat_minor": 4
}
