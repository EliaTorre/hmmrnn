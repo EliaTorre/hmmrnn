{
 "cells": [
  {
   "cell_type": "code",
   "execution_count": 1,
   "metadata": {},
   "outputs": [],
   "source": [
    "from scripts.manager import Manager\n",
    "from scripts.manager import rank_models"
   ]
  },
  {
   "cell_type": "markdown",
   "metadata": {},
   "source": [
    "## Run Grid Search\n",
    "\n",
    "Now we'll run the grid search with selected configurations, hidden sizes, and input sizes."
   ]
  },
  {
   "cell_type": "code",
   "execution_count": null,
   "metadata": {},
   "outputs": [],
   "source": [
    "manager = Manager()\n",
    "results = manager.run_grid_search(\n",
    "    configs=[\"HMMTwo\", \"HMMThree\", \"HMMFour\", \"HMMFive\"],\n",
    "    hidden_sizes=[50, 150, 200],\n",
    "    input_sizes=[1, 10, 100, 200],\n",
    "    seeds=[0, 1, 2],\n",
    "    verbose=False,\n",
    ")"
   ]
  },
  {
   "cell_type": "code",
   "execution_count": 2,
   "metadata": {},
   "outputs": [
    {
     "name": "stdout",
     "output_type": "stream",
     "text": [
      "\n",
      "HMMTwo\n",
      "{'hidden_size': 200, 'input_size': 100, 'average_loss': 9.738074514600966, 'std_loss': 0.09424116169477967}\n",
      "{'hidden_size': 200, 'input_size': 200, 'average_loss': 9.752340210808647, 'std_loss': 0.08699436703188582}\n",
      "{'hidden_size': 200, 'input_size': 10, 'average_loss': 9.764152526855469, 'std_loss': 0.09511420074227955}\n",
      "{'hidden_size': 150, 'input_size': 10, 'average_loss': 9.789328469170465, 'std_loss': 0.060425050888595816}\n",
      "{'hidden_size': 200, 'input_size': 1, 'average_loss': 9.818995157877604, 'std_loss': 0.17358676909322454}\n",
      "{'hidden_size': 150, 'input_size': 1, 'average_loss': 9.841972986857096, 'std_loss': 0.1086589167678319}\n",
      "{'hidden_size': 150, 'input_size': 100, 'average_loss': 9.85722827911377, 'std_loss': 0.07042415595660552}\n",
      "{'hidden_size': 150, 'input_size': 200, 'average_loss': 9.895016882154676, 'std_loss': 0.13022933561017835}\n",
      "{'hidden_size': 50, 'input_size': 100, 'average_loss': 9.951488282945421, 'std_loss': 0.05715348499203837}\n",
      "{'hidden_size': 50, 'input_size': 1, 'average_loss': 9.956034236484104, 'std_loss': 0.06558875995961483}\n",
      "{'hidden_size': 50, 'input_size': 10, 'average_loss': 9.993373658921984, 'std_loss': 0.04383059677640419}\n",
      "{'hidden_size': 50, 'input_size': 200, 'average_loss': 10.064017189873589, 'std_loss': 0.044212294720707264}\n",
      "\n",
      "HMMThree\n",
      "{'hidden_size': 200, 'input_size': 1, 'average_loss': 3.9904747804005942, 'std_loss': 0.028557301256857476}\n",
      "{'hidden_size': 200, 'input_size': 10, 'average_loss': 4.022940079371135, 'std_loss': 0.0122506694347873}\n",
      "{'hidden_size': 150, 'input_size': 1, 'average_loss': 4.032775587505764, 'std_loss': 0.061358655266616845}\n",
      "{'hidden_size': 150, 'input_size': 10, 'average_loss': 4.036343468560113, 'std_loss': 0.021771890957184167}\n",
      "{'hidden_size': 200, 'input_size': 200, 'average_loss': 4.0625278684828015, 'std_loss': 0.019593732130447575}\n",
      "{'hidden_size': 200, 'input_size': 100, 'average_loss': 4.063184314303928, 'std_loss': 0.025813460813123253}\n",
      "{'hidden_size': 150, 'input_size': 100, 'average_loss': 4.079451110627915, 'std_loss': 0.014997067103805084}\n",
      "{'hidden_size': 150, 'input_size': 200, 'average_loss': 4.085303915871514, 'std_loss': 0.01422963169089709}\n",
      "{'hidden_size': 50, 'input_size': 1, 'average_loss': 4.0907018714480925, 'std_loss': 0.007797119303412243}\n",
      "{'hidden_size': 50, 'input_size': 10, 'average_loss': 4.106229649649726, 'std_loss': 0.005021264720499946}\n",
      "{'hidden_size': 50, 'input_size': 100, 'average_loss': 4.122630039850871, 'std_loss': 0.004564010963802798}\n",
      "{'hidden_size': 50, 'input_size': 200, 'average_loss': 4.1306158436669245, 'std_loss': 0.005575987393203616}\n",
      "\n",
      "HMMFour\n",
      "{'hidden_size': 200, 'input_size': 10, 'average_loss': 4.596963935428196, 'std_loss': 0.03126393873894617}\n",
      "{'hidden_size': 200, 'input_size': 200, 'average_loss': 4.607310718960232, 'std_loss': 0.008406275001992985}\n",
      "{'hidden_size': 150, 'input_size': 200, 'average_loss': 4.61141480339898, 'std_loss': 0.021311136368044752}\n",
      "{'hidden_size': 150, 'input_size': 100, 'average_loss': 4.619260258144803, 'std_loss': 0.02576371271829138}\n",
      "{'hidden_size': 150, 'input_size': 10, 'average_loss': 4.619500425126817, 'std_loss': 0.013620601667475366}\n",
      "{'hidden_size': 200, 'input_size': 100, 'average_loss': 4.627468480004205, 'std_loss': 0.011591657741241147}\n",
      "{'hidden_size': 50, 'input_size': 1, 'average_loss': 4.6335050794813375, 'std_loss': 0.01771238962514239}\n",
      "{'hidden_size': 50, 'input_size': 10, 'average_loss': 4.662739859686957, 'std_loss': 0.022217832055661777}\n",
      "{'hidden_size': 50, 'input_size': 100, 'average_loss': 4.671199427710639, 'std_loss': 0.008485785290980468}\n",
      "{'hidden_size': 50, 'input_size': 200, 'average_loss': 4.678874916500515, 'std_loss': 0.016926516356511143}\n",
      "{'hidden_size': 150, 'input_size': 1, 'average_loss': 5.172209103902181, 'std_loss': 0.8760879962764409}\n",
      "{'hidden_size': 200, 'input_size': 1, 'average_loss': 5.631895542144775, 'std_loss': 0.765738646189372}\n",
      "\n",
      "HMMFive\n",
      "{'hidden_size': 50, 'input_size': 100, 'average_loss': 8.538912720150417, 'std_loss': 1.0198477287740106}\n",
      "{'hidden_size': 50, 'input_size': 10, 'average_loss': 9.223917325337728, 'std_loss': 1.0379936240177203}\n",
      "{'hidden_size': 50, 'input_size': 200, 'average_loss': 9.225959248012966, 'std_loss': 1.034088084499992}\n",
      "{'hidden_size': 150, 'input_size': 200, 'average_loss': 9.231823709275988, 'std_loss': 1.0465664853749348}\n",
      "{'hidden_size': 150, 'input_size': 1, 'average_loss': 9.924662907918295, 'std_loss': 0.012833595275878906}\n",
      "{'hidden_size': 200, 'input_size': 1, 'average_loss': 9.934978908962675, 'std_loss': 0.00886882055241151}\n",
      "{'hidden_size': 200, 'input_size': 10, 'average_loss': 9.937357372707792, 'std_loss': 0.007570639311304254}\n",
      "{'hidden_size': 50, 'input_size': 1, 'average_loss': 9.942500432332357, 'std_loss': 0.013483831990478376}\n",
      "{'hidden_size': 150, 'input_size': 10, 'average_loss': 9.945411682128906, 'std_loss': 0.004345267119831933}\n",
      "{'hidden_size': 200, 'input_size': 200, 'average_loss': 9.95730061001248, 'std_loss': 0.010144718230789499}\n",
      "{'hidden_size': 200, 'input_size': 100, 'average_loss': 9.964094267951118, 'std_loss': 0.010977140867615535}\n",
      "{'hidden_size': 150, 'input_size': 100, 'average_loss': 9.967234505547419, 'std_loss': 0.01160811671716882}\n"
     ]
    }
   ],
   "source": [
    "import json\n",
    "\n",
    "with open('/home/elia/Documents/rnnrep/Experiments/grid_search_20250412_021154/grid_search_results.json', 'r') as f:\n",
    "    data = json.load(f)\n",
    "\n",
    "experiments = data['experiments']\n",
    "ranking = rank_models(experiments)\n",
    "configs = [\"HMMTwo\", \"HMMThree\", \"HMMFour\", \"HMMFive\"]\n",
    "for config in configs:\n",
    "    print()\n",
    "    print(config)\n",
    "    for i in range(len(ranking[config])):\n",
    "        print(ranking[config][i])\n"
   ]
  },
  {
   "cell_type": "code",
   "execution_count": null,
   "metadata": {},
   "outputs": [],
   "source": []
  }
 ],
 "metadata": {
  "kernelspec": {
   "display_name": "deep",
   "language": "python",
   "name": "python3"
  },
  "language_info": {
   "codemirror_mode": {
    "name": "ipython",
    "version": 3
   },
   "file_extension": ".py",
   "mimetype": "text/x-python",
   "name": "python",
   "nbconvert_exporter": "python",
   "pygments_lexer": "ipython3",
   "version": "3.12.7"
  }
 },
 "nbformat": 4,
 "nbformat_minor": 4
}
